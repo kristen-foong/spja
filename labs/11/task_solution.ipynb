{
 "cells": [
  {
   "cell_type": "code",
   "execution_count": null,
   "metadata": {},
   "outputs": [],
   "source": [
    "%matplotlib inline\n",
    "import pandas as pd\n",
    "import os"
   ]
  },
  {
   "cell_type": "code",
   "execution_count": null,
   "metadata": {},
   "outputs": [],
   "source": [
    "df = pd.read_csv(\"data/Pokemon.csv\")\n",
    "df"
   ]
  },
  {
   "cell_type": "code",
   "execution_count": null,
   "metadata": {},
   "outputs": [],
   "source": [
    "# Přidejte do tabulky df nový sloupec, který bude obsahovat rozdíl útoku a obrany každého Pokémona.\n",
    "df[\"diff\"] = df[\"attack\"] - df[\"defense\"]"
   ]
  },
  {
   "cell_type": "code",
   "execution_count": null,
   "metadata": {},
   "outputs": [],
   "source": [
    "# Kolik Pokémonů z první generace má větší počet životů (hp) než hodnotu obrany (defense)?\n",
    "firstgen = df[df[\"generation\"] == 1]\n",
    "filtered = firstgen[\"hp\"] > firstgen[\"defense\"]\n",
    "len(filtered[filtered])"
   ]
  },
  {
   "cell_type": "code",
   "execution_count": null,
   "metadata": {},
   "outputs": [],
   "source": [
    "# Která generace a barva Pokémonů má největší průměrný počet životů (např. 2. generace, zelená barva)?\n",
    "df.groupby([\"generation\", \"color\"])[\"hp\"].mean().idxmax()"
   ]
  },
  {
   "cell_type": "code",
   "execution_count": null,
   "metadata": {},
   "outputs": [],
   "source": [
    "# Setřiďte Pokémony podle celkové síly (total). Jaký je největší rozdíl v celkové síle mezi dvěmi sousedními\n",
    "# Pokémony v tomto setřízení? (může se hodit funkce diff)\n",
    "sorted = df[\"total\"].sort_values(ascending=False)\n",
    "sorted.diff().abs().max()"
   ]
  },
  {
   "cell_type": "code",
   "execution_count": null,
   "metadata": {},
   "outputs": [],
   "source": [
    "# Který Pokémon má největší celkovou sílu (total) v součtu se svým příštím vývojovým stádiem?\n",
    "# Např. bulbasaur má příští vývojové stádium ivysaur, oba dva mají dohromady celkovou sílu 723.\n",
    "# Použijte funkci join (ekvivalent JOINu v SQL).\n",
    "indexed = df.set_index(\"id\")\n",
    "joined = indexed.join(indexed, on=\"evolves from\", rsuffix=\"_j\")\n",
    "joined[\"total_sum\"] = joined[\"total\"] + joined[\"total_j\"]\n",
    "s = joined.sort_values(by=\"total_sum\", ascending=False)\n",
    "s.iloc[0]"
   ]
  },
  {
   "cell_type": "code",
   "execution_count": null,
   "outputs": [],
   "source": [],
   "metadata": {
    "collapsed": false,
    "pycharm": {
     "name": "#%%\n"
    }
   }
  }
 ],
 "metadata": {
  "kernelspec": {
   "display_name": "Python 3",
   "language": "python",
   "name": "python3"
  },
  "language_info": {
   "codemirror_mode": {
    "name": "ipython",
    "version": 3
   },
   "file_extension": ".py",
   "mimetype": "text/x-python",
   "name": "python",
   "nbconvert_exporter": "python",
   "pygments_lexer": "ipython3",
   "version": "3.6.8"
  },
  "pycharm": {
   "stem_cell": {
    "cell_type": "raw",
    "source": [],
    "metadata": {
     "collapsed": false
    }
   }
  }
 },
 "nbformat": 4,
 "nbformat_minor": 2
}