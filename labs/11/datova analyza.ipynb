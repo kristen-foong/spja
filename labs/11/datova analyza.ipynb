{
 "cells": [
  {
   "cell_type": "markdown",
   "metadata": {},
   "source": [
    "# Datová analýza v Pythonu"
   ]
  },
  {
   "cell_type": "markdown",
   "metadata": {},
   "source": [
    "Data jsou vytvořena z [Pokedexu na Githubu](https://github.com/veekun/pokedex)."
   ]
  },
  {
   "cell_type": "markdown",
   "metadata": {},
   "source": [
    "![pokemons](http://cdn-static.denofgeek.com/sites/denofgeek/files/pokemon_4.jpg)"
   ]
  },
  {
   "cell_type": "markdown",
   "metadata": {},
   "source": [
    "## Speciální příkaz pro notebook"
   ]
  },
  {
   "cell_type": "markdown",
   "metadata": {},
   "source": [
    "aby nám zobrazoval obrázkové výsledky přímo pod buňkou s příkazem."
   ]
  },
  {
   "cell_type": "code",
   "execution_count": null,
   "metadata": {},
   "outputs": [],
   "source": [
    "%matplotlib inline"
   ]
  },
  {
   "cell_type": "markdown",
   "metadata": {},
   "source": [
    "## Import knihoven"
   ]
  },
  {
   "cell_type": "code",
   "execution_count": null,
   "metadata": {},
   "outputs": [],
   "source": [
    "import pandas as pd\n",
    "import os"
   ]
  },
  {
   "cell_type": "markdown",
   "metadata": {},
   "source": [
    "## Import dat"
   ]
  },
  {
   "cell_type": "code",
   "execution_count": null,
   "metadata": {},
   "outputs": [],
   "source": [
    "cesta_k_souboru = os.path.join('data', 'Pokemon.csv')"
   ]
  },
  {
   "cell_type": "code",
   "execution_count": null,
   "metadata": {},
   "outputs": [],
   "source": [
    "data = pd.read_csv(cesta_k_souboru)"
   ]
  },
  {
   "cell_type": "code",
   "execution_count": null,
   "metadata": {},
   "outputs": [],
   "source": [
    "data.head()"
   ]
  },
  {
   "cell_type": "markdown",
   "metadata": {},
   "source": [
    "## Nápověda kdykoli k dispozici"
   ]
  },
  {
   "cell_type": "code",
   "execution_count": null,
   "metadata": {},
   "outputs": [],
   "source": [
    "pd.read_csv?"
   ]
  },
  {
   "cell_type": "code",
   "execution_count": null,
   "metadata": {},
   "outputs": [],
   "source": [
    "data.head?"
   ]
  },
  {
   "cell_type": "markdown",
   "metadata": {},
   "source": [
    "## Sloupce a řádky"
   ]
  },
  {
   "cell_type": "markdown",
   "metadata": {},
   "source": [
    "### Sloupce"
   ]
  },
  {
   "cell_type": "code",
   "execution_count": 7,
   "metadata": {},
   "outputs": [
    {
     "data": {
      "text/plain": [
       "0     bulbasaur\n",
       "1       ivysaur\n",
       "2      venusaur\n",
       "3    charmander\n",
       "4    charmeleon\n",
       "Name: name, dtype: object"
      ]
     },
     "execution_count": 7,
     "metadata": {},
     "output_type": "execute_result"
    }
   ],
   "source": [
    "data['name'].head()"
   ]
  },
  {
   "cell_type": "code",
   "execution_count": 8,
   "metadata": {},
   "outputs": [
    {
     "data": {
      "text/html": [
       "<div>\n",
       "<style scoped>\n",
       "    .dataframe tbody tr th:only-of-type {\n",
       "        vertical-align: middle;\n",
       "    }\n",
       "\n",
       "    .dataframe tbody tr th {\n",
       "        vertical-align: top;\n",
       "    }\n",
       "\n",
       "    .dataframe thead th {\n",
       "        text-align: right;\n",
       "    }\n",
       "</style>\n",
       "<table border=\"1\" class=\"dataframe\">\n",
       "  <thead>\n",
       "    <tr style=\"text-align: right;\">\n",
       "      <th></th>\n",
       "      <th>name</th>\n",
       "      <th>total</th>\n",
       "    </tr>\n",
       "  </thead>\n",
       "  <tbody>\n",
       "    <tr>\n",
       "      <th>0</th>\n",
       "      <td>bulbasaur</td>\n",
       "      <td>318</td>\n",
       "    </tr>\n",
       "    <tr>\n",
       "      <th>1</th>\n",
       "      <td>ivysaur</td>\n",
       "      <td>405</td>\n",
       "    </tr>\n",
       "    <tr>\n",
       "      <th>2</th>\n",
       "      <td>venusaur</td>\n",
       "      <td>525</td>\n",
       "    </tr>\n",
       "    <tr>\n",
       "      <th>3</th>\n",
       "      <td>charmander</td>\n",
       "      <td>309</td>\n",
       "    </tr>\n",
       "    <tr>\n",
       "      <th>4</th>\n",
       "      <td>charmeleon</td>\n",
       "      <td>405</td>\n",
       "    </tr>\n",
       "  </tbody>\n",
       "</table>\n",
       "</div>"
      ],
      "text/plain": [
       "         name  total\n",
       "0   bulbasaur    318\n",
       "1     ivysaur    405\n",
       "2    venusaur    525\n",
       "3  charmander    309\n",
       "4  charmeleon    405"
      ]
     },
     "execution_count": 8,
     "metadata": {},
     "output_type": "execute_result"
    }
   ],
   "source": [
    "data[['name', 'total']].head()"
   ]
  },
  {
   "cell_type": "markdown",
   "metadata": {},
   "source": [
    "### Řádky"
   ]
  },
  {
   "cell_type": "code",
   "execution_count": 9,
   "metadata": {},
   "outputs": [
    {
     "data": {
      "text/plain": [
       "id                                2\n",
       "name                        ivysaur\n",
       "height                            1\n",
       "weight                           13\n",
       "color                         green\n",
       "shape                     quadruped\n",
       "is baby                       False\n",
       "type 1                        Grass\n",
       "type 2                       Poison\n",
       "hp                               60\n",
       "attack                           62\n",
       "defense                          63\n",
       "sp. attack                       80\n",
       "sp. defense                      80\n",
       "speed                            60\n",
       "total                           405\n",
       "generation                        1\n",
       "evolves from                      1\n",
       "evolution group                   1\n",
       "fm gender ratio                 1:7\n",
       "has_gender_differences            0\n",
       "Name: 1, dtype: object"
      ]
     },
     "execution_count": 9,
     "metadata": {},
     "output_type": "execute_result"
    }
   ],
   "source": [
    "data.loc[1]"
   ]
  },
  {
   "cell_type": "code",
   "execution_count": 10,
   "metadata": {},
   "outputs": [
    {
     "data": {
      "text/html": [
       "<div>\n",
       "<style scoped>\n",
       "    .dataframe tbody tr th:only-of-type {\n",
       "        vertical-align: middle;\n",
       "    }\n",
       "\n",
       "    .dataframe tbody tr th {\n",
       "        vertical-align: top;\n",
       "    }\n",
       "\n",
       "    .dataframe thead th {\n",
       "        text-align: right;\n",
       "    }\n",
       "</style>\n",
       "<table border=\"1\" class=\"dataframe\">\n",
       "  <thead>\n",
       "    <tr style=\"text-align: right;\">\n",
       "      <th></th>\n",
       "      <th>id</th>\n",
       "      <th>name</th>\n",
       "      <th>height</th>\n",
       "      <th>weight</th>\n",
       "      <th>color</th>\n",
       "      <th>shape</th>\n",
       "      <th>is baby</th>\n",
       "      <th>type 1</th>\n",
       "      <th>type 2</th>\n",
       "      <th>hp</th>\n",
       "      <th>...</th>\n",
       "      <th>defense</th>\n",
       "      <th>sp. attack</th>\n",
       "      <th>sp. defense</th>\n",
       "      <th>speed</th>\n",
       "      <th>total</th>\n",
       "      <th>generation</th>\n",
       "      <th>evolves from</th>\n",
       "      <th>evolution group</th>\n",
       "      <th>fm gender ratio</th>\n",
       "      <th>has_gender_differences</th>\n",
       "    </tr>\n",
       "  </thead>\n",
       "  <tbody>\n",
       "    <tr>\n",
       "      <th>1</th>\n",
       "      <td>2</td>\n",
       "      <td>ivysaur</td>\n",
       "      <td>1.0</td>\n",
       "      <td>13.0</td>\n",
       "      <td>green</td>\n",
       "      <td>quadruped</td>\n",
       "      <td>False</td>\n",
       "      <td>Grass</td>\n",
       "      <td>Poison</td>\n",
       "      <td>60</td>\n",
       "      <td>...</td>\n",
       "      <td>63</td>\n",
       "      <td>80</td>\n",
       "      <td>80</td>\n",
       "      <td>60</td>\n",
       "      <td>405</td>\n",
       "      <td>1</td>\n",
       "      <td>1.0</td>\n",
       "      <td>1</td>\n",
       "      <td>1:7</td>\n",
       "      <td>0</td>\n",
       "    </tr>\n",
       "    <tr>\n",
       "      <th>2</th>\n",
       "      <td>3</td>\n",
       "      <td>venusaur</td>\n",
       "      <td>2.0</td>\n",
       "      <td>100.0</td>\n",
       "      <td>green</td>\n",
       "      <td>quadruped</td>\n",
       "      <td>False</td>\n",
       "      <td>Grass</td>\n",
       "      <td>Poison</td>\n",
       "      <td>80</td>\n",
       "      <td>...</td>\n",
       "      <td>83</td>\n",
       "      <td>100</td>\n",
       "      <td>100</td>\n",
       "      <td>80</td>\n",
       "      <td>525</td>\n",
       "      <td>1</td>\n",
       "      <td>2.0</td>\n",
       "      <td>1</td>\n",
       "      <td>1:7</td>\n",
       "      <td>1</td>\n",
       "    </tr>\n",
       "    <tr>\n",
       "      <th>3</th>\n",
       "      <td>4</td>\n",
       "      <td>charmander</td>\n",
       "      <td>0.6</td>\n",
       "      <td>8.5</td>\n",
       "      <td>red</td>\n",
       "      <td>upright</td>\n",
       "      <td>False</td>\n",
       "      <td>Fire</td>\n",
       "      <td>NaN</td>\n",
       "      <td>39</td>\n",
       "      <td>...</td>\n",
       "      <td>43</td>\n",
       "      <td>60</td>\n",
       "      <td>50</td>\n",
       "      <td>65</td>\n",
       "      <td>309</td>\n",
       "      <td>1</td>\n",
       "      <td>NaN</td>\n",
       "      <td>2</td>\n",
       "      <td>1:7</td>\n",
       "      <td>0</td>\n",
       "    </tr>\n",
       "  </tbody>\n",
       "</table>\n",
       "<p>3 rows × 21 columns</p>\n",
       "</div>"
      ],
      "text/plain": [
       "   id        name  height  weight  color      shape  is baby type 1  type 2  \\\n",
       "1   2     ivysaur     1.0    13.0  green  quadruped    False  Grass  Poison   \n",
       "2   3    venusaur     2.0   100.0  green  quadruped    False  Grass  Poison   \n",
       "3   4  charmander     0.6     8.5    red    upright    False   Fire     NaN   \n",
       "\n",
       "   hp  ...  defense  sp. attack  sp. defense  speed  total  generation  \\\n",
       "1  60  ...       63          80           80     60    405           1   \n",
       "2  80  ...       83         100          100     80    525           1   \n",
       "3  39  ...       43          60           50     65    309           1   \n",
       "\n",
       "   evolves from  evolution group  fm gender ratio has_gender_differences  \n",
       "1           1.0                1              1:7                      0  \n",
       "2           2.0                1              1:7                      1  \n",
       "3           NaN                2              1:7                      0  \n",
       "\n",
       "[3 rows x 21 columns]"
      ]
     },
     "execution_count": 10,
     "metadata": {},
     "output_type": "execute_result"
    }
   ],
   "source": [
    "data.loc[[1, 2, 3]]"
   ]
  },
  {
   "cell_type": "code",
   "execution_count": 11,
   "metadata": {},
   "outputs": [
    {
     "data": {
      "text/html": [
       "<div>\n",
       "<style scoped>\n",
       "    .dataframe tbody tr th:only-of-type {\n",
       "        vertical-align: middle;\n",
       "    }\n",
       "\n",
       "    .dataframe tbody tr th {\n",
       "        vertical-align: top;\n",
       "    }\n",
       "\n",
       "    .dataframe thead th {\n",
       "        text-align: right;\n",
       "    }\n",
       "</style>\n",
       "<table border=\"1\" class=\"dataframe\">\n",
       "  <thead>\n",
       "    <tr style=\"text-align: right;\">\n",
       "      <th></th>\n",
       "      <th>id</th>\n",
       "      <th>name</th>\n",
       "      <th>height</th>\n",
       "      <th>weight</th>\n",
       "      <th>color</th>\n",
       "      <th>shape</th>\n",
       "      <th>is baby</th>\n",
       "      <th>type 1</th>\n",
       "      <th>type 2</th>\n",
       "      <th>hp</th>\n",
       "      <th>...</th>\n",
       "      <th>defense</th>\n",
       "      <th>sp. attack</th>\n",
       "      <th>sp. defense</th>\n",
       "      <th>speed</th>\n",
       "      <th>total</th>\n",
       "      <th>generation</th>\n",
       "      <th>evolves from</th>\n",
       "      <th>evolution group</th>\n",
       "      <th>fm gender ratio</th>\n",
       "      <th>has_gender_differences</th>\n",
       "    </tr>\n",
       "  </thead>\n",
       "  <tbody>\n",
       "    <tr>\n",
       "      <th>0</th>\n",
       "      <td>1</td>\n",
       "      <td>bulbasaur</td>\n",
       "      <td>0.7</td>\n",
       "      <td>6.9</td>\n",
       "      <td>green</td>\n",
       "      <td>quadruped</td>\n",
       "      <td>False</td>\n",
       "      <td>Grass</td>\n",
       "      <td>Poison</td>\n",
       "      <td>45</td>\n",
       "      <td>...</td>\n",
       "      <td>49</td>\n",
       "      <td>65</td>\n",
       "      <td>65</td>\n",
       "      <td>45</td>\n",
       "      <td>318</td>\n",
       "      <td>1</td>\n",
       "      <td>NaN</td>\n",
       "      <td>1</td>\n",
       "      <td>1:7</td>\n",
       "      <td>0</td>\n",
       "    </tr>\n",
       "    <tr>\n",
       "      <th>1</th>\n",
       "      <td>2</td>\n",
       "      <td>ivysaur</td>\n",
       "      <td>1.0</td>\n",
       "      <td>13.0</td>\n",
       "      <td>green</td>\n",
       "      <td>quadruped</td>\n",
       "      <td>False</td>\n",
       "      <td>Grass</td>\n",
       "      <td>Poison</td>\n",
       "      <td>60</td>\n",
       "      <td>...</td>\n",
       "      <td>63</td>\n",
       "      <td>80</td>\n",
       "      <td>80</td>\n",
       "      <td>60</td>\n",
       "      <td>405</td>\n",
       "      <td>1</td>\n",
       "      <td>1.0</td>\n",
       "      <td>1</td>\n",
       "      <td>1:7</td>\n",
       "      <td>0</td>\n",
       "    </tr>\n",
       "    <tr>\n",
       "      <th>2</th>\n",
       "      <td>3</td>\n",
       "      <td>venusaur</td>\n",
       "      <td>2.0</td>\n",
       "      <td>100.0</td>\n",
       "      <td>green</td>\n",
       "      <td>quadruped</td>\n",
       "      <td>False</td>\n",
       "      <td>Grass</td>\n",
       "      <td>Poison</td>\n",
       "      <td>80</td>\n",
       "      <td>...</td>\n",
       "      <td>83</td>\n",
       "      <td>100</td>\n",
       "      <td>100</td>\n",
       "      <td>80</td>\n",
       "      <td>525</td>\n",
       "      <td>1</td>\n",
       "      <td>2.0</td>\n",
       "      <td>1</td>\n",
       "      <td>1:7</td>\n",
       "      <td>1</td>\n",
       "    </tr>\n",
       "    <tr>\n",
       "      <th>3</th>\n",
       "      <td>4</td>\n",
       "      <td>charmander</td>\n",
       "      <td>0.6</td>\n",
       "      <td>8.5</td>\n",
       "      <td>red</td>\n",
       "      <td>upright</td>\n",
       "      <td>False</td>\n",
       "      <td>Fire</td>\n",
       "      <td>NaN</td>\n",
       "      <td>39</td>\n",
       "      <td>...</td>\n",
       "      <td>43</td>\n",
       "      <td>60</td>\n",
       "      <td>50</td>\n",
       "      <td>65</td>\n",
       "      <td>309</td>\n",
       "      <td>1</td>\n",
       "      <td>NaN</td>\n",
       "      <td>2</td>\n",
       "      <td>1:7</td>\n",
       "      <td>0</td>\n",
       "    </tr>\n",
       "    <tr>\n",
       "      <th>4</th>\n",
       "      <td>5</td>\n",
       "      <td>charmeleon</td>\n",
       "      <td>1.1</td>\n",
       "      <td>19.0</td>\n",
       "      <td>red</td>\n",
       "      <td>upright</td>\n",
       "      <td>False</td>\n",
       "      <td>Fire</td>\n",
       "      <td>NaN</td>\n",
       "      <td>58</td>\n",
       "      <td>...</td>\n",
       "      <td>58</td>\n",
       "      <td>80</td>\n",
       "      <td>65</td>\n",
       "      <td>80</td>\n",
       "      <td>405</td>\n",
       "      <td>1</td>\n",
       "      <td>4.0</td>\n",
       "      <td>2</td>\n",
       "      <td>1:7</td>\n",
       "      <td>0</td>\n",
       "    </tr>\n",
       "    <tr>\n",
       "      <th>5</th>\n",
       "      <td>6</td>\n",
       "      <td>charizard</td>\n",
       "      <td>1.7</td>\n",
       "      <td>90.5</td>\n",
       "      <td>red</td>\n",
       "      <td>upright</td>\n",
       "      <td>False</td>\n",
       "      <td>Fire</td>\n",
       "      <td>Flying</td>\n",
       "      <td>78</td>\n",
       "      <td>...</td>\n",
       "      <td>78</td>\n",
       "      <td>109</td>\n",
       "      <td>85</td>\n",
       "      <td>100</td>\n",
       "      <td>534</td>\n",
       "      <td>1</td>\n",
       "      <td>5.0</td>\n",
       "      <td>2</td>\n",
       "      <td>1:7</td>\n",
       "      <td>0</td>\n",
       "    </tr>\n",
       "  </tbody>\n",
       "</table>\n",
       "<p>6 rows × 21 columns</p>\n",
       "</div>"
      ],
      "text/plain": [
       "   id        name  height  weight  color      shape  is baby type 1  type 2  \\\n",
       "0   1   bulbasaur     0.7     6.9  green  quadruped    False  Grass  Poison   \n",
       "1   2     ivysaur     1.0    13.0  green  quadruped    False  Grass  Poison   \n",
       "2   3    venusaur     2.0   100.0  green  quadruped    False  Grass  Poison   \n",
       "3   4  charmander     0.6     8.5    red    upright    False   Fire     NaN   \n",
       "4   5  charmeleon     1.1    19.0    red    upright    False   Fire     NaN   \n",
       "5   6   charizard     1.7    90.5    red    upright    False   Fire  Flying   \n",
       "\n",
       "   hp  ...  defense  sp. attack  sp. defense  speed  total  generation  \\\n",
       "0  45  ...       49          65           65     45    318           1   \n",
       "1  60  ...       63          80           80     60    405           1   \n",
       "2  80  ...       83         100          100     80    525           1   \n",
       "3  39  ...       43          60           50     65    309           1   \n",
       "4  58  ...       58          80           65     80    405           1   \n",
       "5  78  ...       78         109           85    100    534           1   \n",
       "\n",
       "   evolves from  evolution group  fm gender ratio has_gender_differences  \n",
       "0           NaN                1              1:7                      0  \n",
       "1           1.0                1              1:7                      0  \n",
       "2           2.0                1              1:7                      1  \n",
       "3           NaN                2              1:7                      0  \n",
       "4           4.0                2              1:7                      0  \n",
       "5           5.0                2              1:7                      0  \n",
       "\n",
       "[6 rows x 21 columns]"
      ]
     },
     "execution_count": 11,
     "metadata": {},
     "output_type": "execute_result"
    }
   ],
   "source": [
    "data.loc[:5]"
   ]
  },
  {
   "cell_type": "markdown",
   "metadata": {},
   "source": [
    "### Konkrétní hodnoty"
   ]
  },
  {
   "cell_type": "code",
   "execution_count": null,
   "metadata": {},
   "outputs": [],
   "source": [
    "data['name'][100]"
   ]
  },
  {
   "cell_type": "code",
   "execution_count": null,
   "metadata": {},
   "outputs": [],
   "source": [
    "data.loc[100, 'name']"
   ]
  },
  {
   "cell_type": "markdown",
   "metadata": {},
   "source": [
    "## Filtrace dat"
   ]
  },
  {
   "cell_type": "code",
   "execution_count": null,
   "metadata": {},
   "outputs": [],
   "source": [
    "data[data['hp'] > 100].head()"
   ]
  },
  {
   "cell_type": "code",
   "execution_count": null,
   "metadata": {},
   "outputs": [],
   "source": [
    "data[(data['attack'] > 100) & (data['color'] == \"red\")].head()"
   ]
  },
  {
   "cell_type": "code",
   "execution_count": null,
   "metadata": {},
   "outputs": [],
   "source": [
    "data[(data[\"type 1\"] == \"Poison\") | (data['type 2'] == 'Poison')].head()"
   ]
  },
  {
   "cell_type": "markdown",
   "metadata": {},
   "source": [
    "## Celkový pohled na data"
   ]
  },
  {
   "cell_type": "code",
   "execution_count": null,
   "metadata": {},
   "outputs": [],
   "source": [
    "data.shape"
   ]
  },
  {
   "cell_type": "code",
   "execution_count": null,
   "metadata": {},
   "outputs": [],
   "source": [
    "data.info()"
   ]
  },
  {
   "cell_type": "code",
   "execution_count": null,
   "metadata": {},
   "outputs": [],
   "source": [
    "data.columns"
   ]
  },
  {
   "cell_type": "code",
   "execution_count": null,
   "metadata": {},
   "outputs": [],
   "source": [
    "data.describe()"
   ]
  },
  {
   "cell_type": "markdown",
   "metadata": {},
   "source": [
    "## Nulové hodnoty"
   ]
  },
  {
   "cell_type": "code",
   "execution_count": null,
   "metadata": {},
   "outputs": [],
   "source": [
    "data.isnull().sum()"
   ]
  },
  {
   "cell_type": "markdown",
   "metadata": {},
   "source": [
    "## Kolerační koeficienty mezi jednotlivými sloupci"
   ]
  },
  {
   "cell_type": "code",
   "execution_count": null,
   "metadata": {},
   "outputs": [],
   "source": [
    "data.corr()"
   ]
  },
  {
   "cell_type": "code",
   "execution_count": null,
   "metadata": {},
   "outputs": [],
   "source": [
    "corr = data.corr()"
   ]
  },
  {
   "cell_type": "code",
   "execution_count": null,
   "metadata": {},
   "outputs": [],
   "source": [
    "corr[corr > 0.7]"
   ]
  },
  {
   "cell_type": "markdown",
   "metadata": {},
   "source": [
    "## Souhrné histogramy ke každému sloupci"
   ]
  },
  {
   "cell_type": "markdown",
   "metadata": {},
   "source": [
    "Sloupec *is_baby* nejdříve převedeme z `bool` na `int`."
   ]
  },
  {
   "cell_type": "code",
   "execution_count": null,
   "metadata": {},
   "outputs": [],
   "source": [
    "data[\"is baby\"] = data[\"is baby\"].astype(int)"
   ]
  },
  {
   "cell_type": "code",
   "execution_count": null,
   "metadata": {},
   "outputs": [],
   "source": [
    "data.hist(figsize=(30, 30), xlabelsize=20, ylabelsize=20);"
   ]
  },
  {
   "cell_type": "markdown",
   "metadata": {},
   "source": [
    "## Čištění datasetu"
   ]
  },
  {
   "cell_type": "code",
   "execution_count": null,
   "metadata": {},
   "outputs": [],
   "source": [
    "data.head()"
   ]
  },
  {
   "cell_type": "markdown",
   "metadata": {},
   "source": [
    "### Pryč s nepotřebným sloupcem"
   ]
  },
  {
   "cell_type": "code",
   "execution_count": null,
   "metadata": {},
   "outputs": [],
   "source": [
    "data = data.drop(columns=[\"has_gender_differences\"])\n",
    "# data.drop(columns=[\"has_gender_differences\"], inplace=True)"
   ]
  },
  {
   "cell_type": "markdown",
   "metadata": {},
   "source": [
    "### Oprava špatného jména sloupce *is_baby*"
   ]
  },
  {
   "cell_type": "code",
   "execution_count": null,
   "metadata": {},
   "outputs": [],
   "source": [
    "data.rename(columns={\"is_baby\": \"is baby\"}, inplace=True)"
   ]
  },
  {
   "cell_type": "markdown",
   "metadata": {},
   "source": [
    "### Oprava datového typu sloupce *evolves from*"
   ]
  },
  {
   "cell_type": "code",
   "execution_count": null,
   "metadata": {},
   "outputs": [],
   "source": [
    "data[\"evolves from\"] = data[\"evolves from\"].fillna(0).astype(int)"
   ]
  },
  {
   "cell_type": "markdown",
   "metadata": {},
   "source": [
    "## Řazení"
   ]
  },
  {
   "cell_type": "markdown",
   "metadata": {},
   "source": [
    "### Top 5 nejlepších pokémonů"
   ]
  },
  {
   "cell_type": "code",
   "execution_count": null,
   "metadata": {},
   "outputs": [],
   "source": [
    "top5 = data.sort_values(by='total', ascending=False)[:5]\n",
    "top5"
   ]
  },
  {
   "cell_type": "markdown",
   "metadata": {},
   "source": [
    "![best pokemon](https://img.pokemondb.net/artwork/large/arceus.jpg)"
   ]
  },
  {
   "cell_type": "markdown",
   "metadata": {},
   "source": [
    "### Top 5 nejvyšších pokémonů"
   ]
  },
  {
   "cell_type": "code",
   "execution_count": null,
   "metadata": {},
   "outputs": [],
   "source": [
    "data.sort_values(by=\"height\", ascending=False).head()"
   ]
  },
  {
   "cell_type": "markdown",
   "metadata": {},
   "source": [
    "![wailord](https://img.pokemondb.net/artwork/large/wailord.jpg)"
   ]
  },
  {
   "cell_type": "markdown",
   "metadata": {},
   "source": [
    "### Top 5 nejtěžších pokémonů"
   ]
  },
  {
   "cell_type": "code",
   "execution_count": null,
   "metadata": {},
   "outputs": [],
   "source": [
    "data.sort_values(by=\"weight\", ascending=False).head()"
   ]
  },
  {
   "cell_type": "markdown",
   "metadata": {},
   "source": [
    "![celesteela](https://img.pokemondb.net/artwork/large/celesteela.jpg)"
   ]
  },
  {
   "cell_type": "markdown",
   "metadata": {},
   "source": [
    "## První úkol (filtrace dat) - dětská obezita"
   ]
  },
  {
   "cell_type": "markdown",
   "metadata": {},
   "source": [
    "### Který dětský Pokémon je nejtěžší?"
   ]
  },
  {
   "cell_type": "code",
   "execution_count": 13,
   "metadata": {},
   "outputs": [
    {
     "data": {
      "text/html": [
       "<div>\n",
       "<style scoped>\n",
       "    .dataframe tbody tr th:only-of-type {\n",
       "        vertical-align: middle;\n",
       "    }\n",
       "\n",
       "    .dataframe tbody tr th {\n",
       "        vertical-align: top;\n",
       "    }\n",
       "\n",
       "    .dataframe thead th {\n",
       "        text-align: right;\n",
       "    }\n",
       "</style>\n",
       "<table border=\"1\" class=\"dataframe\">\n",
       "  <thead>\n",
       "    <tr style=\"text-align: right;\">\n",
       "      <th></th>\n",
       "      <th>id</th>\n",
       "      <th>name</th>\n",
       "      <th>height</th>\n",
       "      <th>weight</th>\n",
       "      <th>color</th>\n",
       "      <th>shape</th>\n",
       "      <th>is baby</th>\n",
       "      <th>type 1</th>\n",
       "      <th>type 2</th>\n",
       "      <th>hp</th>\n",
       "      <th>...</th>\n",
       "      <th>defense</th>\n",
       "      <th>sp. attack</th>\n",
       "      <th>sp. defense</th>\n",
       "      <th>speed</th>\n",
       "      <th>total</th>\n",
       "      <th>generation</th>\n",
       "      <th>evolves from</th>\n",
       "      <th>evolution group</th>\n",
       "      <th>fm gender ratio</th>\n",
       "      <th>has_gender_differences</th>\n",
       "    </tr>\n",
       "  </thead>\n",
       "  <tbody>\n",
       "    <tr>\n",
       "      <th>445</th>\n",
       "      <td>446</td>\n",
       "      <td>munchlax</td>\n",
       "      <td>0.6</td>\n",
       "      <td>105.0</td>\n",
       "      <td>black</td>\n",
       "      <td>humanoid</td>\n",
       "      <td>True</td>\n",
       "      <td>Normal</td>\n",
       "      <td>NaN</td>\n",
       "      <td>135</td>\n",
       "      <td>...</td>\n",
       "      <td>40</td>\n",
       "      <td>40</td>\n",
       "      <td>85</td>\n",
       "      <td>5</td>\n",
       "      <td>390</td>\n",
       "      <td>4</td>\n",
       "      <td>NaN</td>\n",
       "      <td>72</td>\n",
       "      <td>1:7</td>\n",
       "      <td>0</td>\n",
       "    </tr>\n",
       "    <tr>\n",
       "      <th>457</th>\n",
       "      <td>458</td>\n",
       "      <td>mantyke</td>\n",
       "      <td>1.0</td>\n",
       "      <td>65.0</td>\n",
       "      <td>blue</td>\n",
       "      <td>wings</td>\n",
       "      <td>True</td>\n",
       "      <td>Water</td>\n",
       "      <td>Flying</td>\n",
       "      <td>45</td>\n",
       "      <td>...</td>\n",
       "      <td>50</td>\n",
       "      <td>60</td>\n",
       "      <td>120</td>\n",
       "      <td>50</td>\n",
       "      <td>345</td>\n",
       "      <td>4</td>\n",
       "      <td>NaN</td>\n",
       "      <td>116</td>\n",
       "      <td>1:1</td>\n",
       "      <td>0</td>\n",
       "    </tr>\n",
       "    <tr>\n",
       "      <th>439</th>\n",
       "      <td>440</td>\n",
       "      <td>happiny</td>\n",
       "      <td>0.6</td>\n",
       "      <td>24.4</td>\n",
       "      <td>pink</td>\n",
       "      <td>humanoid</td>\n",
       "      <td>True</td>\n",
       "      <td>Normal</td>\n",
       "      <td>NaN</td>\n",
       "      <td>100</td>\n",
       "      <td>...</td>\n",
       "      <td>5</td>\n",
       "      <td>15</td>\n",
       "      <td>65</td>\n",
       "      <td>30</td>\n",
       "      <td>220</td>\n",
       "      <td>4</td>\n",
       "      <td>NaN</td>\n",
       "      <td>51</td>\n",
       "      <td>1:0</td>\n",
       "      <td>0</td>\n",
       "    </tr>\n",
       "    <tr>\n",
       "      <th>238</th>\n",
       "      <td>239</td>\n",
       "      <td>elekid</td>\n",
       "      <td>0.6</td>\n",
       "      <td>23.5</td>\n",
       "      <td>yellow</td>\n",
       "      <td>humanoid</td>\n",
       "      <td>True</td>\n",
       "      <td>Electric</td>\n",
       "      <td>NaN</td>\n",
       "      <td>45</td>\n",
       "      <td>...</td>\n",
       "      <td>37</td>\n",
       "      <td>65</td>\n",
       "      <td>55</td>\n",
       "      <td>95</td>\n",
       "      <td>360</td>\n",
       "      <td>2</td>\n",
       "      <td>NaN</td>\n",
       "      <td>60</td>\n",
       "      <td>1:3</td>\n",
       "      <td>0</td>\n",
       "    </tr>\n",
       "    <tr>\n",
       "      <th>239</th>\n",
       "      <td>240</td>\n",
       "      <td>magby</td>\n",
       "      <td>0.7</td>\n",
       "      <td>21.4</td>\n",
       "      <td>red</td>\n",
       "      <td>upright</td>\n",
       "      <td>True</td>\n",
       "      <td>Fire</td>\n",
       "      <td>NaN</td>\n",
       "      <td>45</td>\n",
       "      <td>...</td>\n",
       "      <td>37</td>\n",
       "      <td>70</td>\n",
       "      <td>55</td>\n",
       "      <td>83</td>\n",
       "      <td>365</td>\n",
       "      <td>2</td>\n",
       "      <td>NaN</td>\n",
       "      <td>61</td>\n",
       "      <td>1:3</td>\n",
       "      <td>0</td>\n",
       "    </tr>\n",
       "    <tr>\n",
       "      <th>235</th>\n",
       "      <td>236</td>\n",
       "      <td>tyrogue</td>\n",
       "      <td>0.7</td>\n",
       "      <td>21.0</td>\n",
       "      <td>purple</td>\n",
       "      <td>humanoid</td>\n",
       "      <td>True</td>\n",
       "      <td>Fighting</td>\n",
       "      <td>NaN</td>\n",
       "      <td>35</td>\n",
       "      <td>...</td>\n",
       "      <td>35</td>\n",
       "      <td>35</td>\n",
       "      <td>35</td>\n",
       "      <td>35</td>\n",
       "      <td>210</td>\n",
       "      <td>2</td>\n",
       "      <td>NaN</td>\n",
       "      <td>47</td>\n",
       "      <td>0:1</td>\n",
       "      <td>0</td>\n",
       "    </tr>\n",
       "    <tr>\n",
       "      <th>446</th>\n",
       "      <td>447</td>\n",
       "      <td>riolu</td>\n",
       "      <td>0.7</td>\n",
       "      <td>20.2</td>\n",
       "      <td>blue</td>\n",
       "      <td>upright</td>\n",
       "      <td>True</td>\n",
       "      <td>Fighting</td>\n",
       "      <td>NaN</td>\n",
       "      <td>40</td>\n",
       "      <td>...</td>\n",
       "      <td>40</td>\n",
       "      <td>35</td>\n",
       "      <td>40</td>\n",
       "      <td>60</td>\n",
       "      <td>285</td>\n",
       "      <td>4</td>\n",
       "      <td>NaN</td>\n",
       "      <td>232</td>\n",
       "      <td>1:7</td>\n",
       "      <td>0</td>\n",
       "    </tr>\n",
       "    <tr>\n",
       "      <th>437</th>\n",
       "      <td>438</td>\n",
       "      <td>bonsly</td>\n",
       "      <td>0.5</td>\n",
       "      <td>15.0</td>\n",
       "      <td>brown</td>\n",
       "      <td>legs</td>\n",
       "      <td>True</td>\n",
       "      <td>Rock</td>\n",
       "      <td>NaN</td>\n",
       "      <td>50</td>\n",
       "      <td>...</td>\n",
       "      <td>95</td>\n",
       "      <td>10</td>\n",
       "      <td>45</td>\n",
       "      <td>10</td>\n",
       "      <td>290</td>\n",
       "      <td>4</td>\n",
       "      <td>NaN</td>\n",
       "      <td>91</td>\n",
       "      <td>1:1</td>\n",
       "      <td>0</td>\n",
       "    </tr>\n",
       "    <tr>\n",
       "      <th>359</th>\n",
       "      <td>360</td>\n",
       "      <td>wynaut</td>\n",
       "      <td>0.6</td>\n",
       "      <td>14.0</td>\n",
       "      <td>blue</td>\n",
       "      <td>upright</td>\n",
       "      <td>True</td>\n",
       "      <td>Psychic</td>\n",
       "      <td>NaN</td>\n",
       "      <td>95</td>\n",
       "      <td>...</td>\n",
       "      <td>48</td>\n",
       "      <td>23</td>\n",
       "      <td>48</td>\n",
       "      <td>23</td>\n",
       "      <td>260</td>\n",
       "      <td>3</td>\n",
       "      <td>NaN</td>\n",
       "      <td>100</td>\n",
       "      <td>1:1</td>\n",
       "      <td>0</td>\n",
       "    </tr>\n",
       "    <tr>\n",
       "      <th>438</th>\n",
       "      <td>439</td>\n",
       "      <td>mime-jr</td>\n",
       "      <td>0.6</td>\n",
       "      <td>13.0</td>\n",
       "      <td>pink</td>\n",
       "      <td>humanoid</td>\n",
       "      <td>True</td>\n",
       "      <td>Psychic</td>\n",
       "      <td>Fairy</td>\n",
       "      <td>20</td>\n",
       "      <td>...</td>\n",
       "      <td>45</td>\n",
       "      <td>70</td>\n",
       "      <td>90</td>\n",
       "      <td>60</td>\n",
       "      <td>310</td>\n",
       "      <td>4</td>\n",
       "      <td>NaN</td>\n",
       "      <td>57</td>\n",
       "      <td>1:1</td>\n",
       "      <td>0</td>\n",
       "    </tr>\n",
       "    <tr>\n",
       "      <th>237</th>\n",
       "      <td>238</td>\n",
       "      <td>smoochum</td>\n",
       "      <td>0.4</td>\n",
       "      <td>6.0</td>\n",
       "      <td>pink</td>\n",
       "      <td>humanoid</td>\n",
       "      <td>True</td>\n",
       "      <td>Ice</td>\n",
       "      <td>Psychic</td>\n",
       "      <td>45</td>\n",
       "      <td>...</td>\n",
       "      <td>15</td>\n",
       "      <td>85</td>\n",
       "      <td>65</td>\n",
       "      <td>65</td>\n",
       "      <td>305</td>\n",
       "      <td>2</td>\n",
       "      <td>NaN</td>\n",
       "      <td>59</td>\n",
       "      <td>1:0</td>\n",
       "      <td>0</td>\n",
       "    </tr>\n",
       "    <tr>\n",
       "      <th>172</th>\n",
       "      <td>173</td>\n",
       "      <td>cleffa</td>\n",
       "      <td>0.3</td>\n",
       "      <td>3.0</td>\n",
       "      <td>pink</td>\n",
       "      <td>upright</td>\n",
       "      <td>True</td>\n",
       "      <td>Fairy</td>\n",
       "      <td>NaN</td>\n",
       "      <td>50</td>\n",
       "      <td>...</td>\n",
       "      <td>28</td>\n",
       "      <td>45</td>\n",
       "      <td>55</td>\n",
       "      <td>15</td>\n",
       "      <td>218</td>\n",
       "      <td>2</td>\n",
       "      <td>NaN</td>\n",
       "      <td>14</td>\n",
       "      <td>3:1</td>\n",
       "      <td>0</td>\n",
       "    </tr>\n",
       "    <tr>\n",
       "      <th>297</th>\n",
       "      <td>298</td>\n",
       "      <td>azurill</td>\n",
       "      <td>0.2</td>\n",
       "      <td>2.0</td>\n",
       "      <td>blue</td>\n",
       "      <td>legs</td>\n",
       "      <td>True</td>\n",
       "      <td>Normal</td>\n",
       "      <td>Fairy</td>\n",
       "      <td>50</td>\n",
       "      <td>...</td>\n",
       "      <td>40</td>\n",
       "      <td>20</td>\n",
       "      <td>40</td>\n",
       "      <td>20</td>\n",
       "      <td>190</td>\n",
       "      <td>3</td>\n",
       "      <td>NaN</td>\n",
       "      <td>90</td>\n",
       "      <td>3:1</td>\n",
       "      <td>0</td>\n",
       "    </tr>\n",
       "    <tr>\n",
       "      <th>171</th>\n",
       "      <td>172</td>\n",
       "      <td>pichu</td>\n",
       "      <td>0.3</td>\n",
       "      <td>2.0</td>\n",
       "      <td>yellow</td>\n",
       "      <td>quadruped</td>\n",
       "      <td>True</td>\n",
       "      <td>Electric</td>\n",
       "      <td>NaN</td>\n",
       "      <td>20</td>\n",
       "      <td>...</td>\n",
       "      <td>15</td>\n",
       "      <td>35</td>\n",
       "      <td>35</td>\n",
       "      <td>60</td>\n",
       "      <td>205</td>\n",
       "      <td>2</td>\n",
       "      <td>NaN</td>\n",
       "      <td>10</td>\n",
       "      <td>1:1</td>\n",
       "      <td>0</td>\n",
       "    </tr>\n",
       "    <tr>\n",
       "      <th>174</th>\n",
       "      <td>175</td>\n",
       "      <td>togepi</td>\n",
       "      <td>0.3</td>\n",
       "      <td>1.5</td>\n",
       "      <td>white</td>\n",
       "      <td>humanoid</td>\n",
       "      <td>True</td>\n",
       "      <td>Fairy</td>\n",
       "      <td>NaN</td>\n",
       "      <td>35</td>\n",
       "      <td>...</td>\n",
       "      <td>65</td>\n",
       "      <td>40</td>\n",
       "      <td>65</td>\n",
       "      <td>20</td>\n",
       "      <td>245</td>\n",
       "      <td>2</td>\n",
       "      <td>NaN</td>\n",
       "      <td>87</td>\n",
       "      <td>1:7</td>\n",
       "      <td>0</td>\n",
       "    </tr>\n",
       "    <tr>\n",
       "      <th>405</th>\n",
       "      <td>406</td>\n",
       "      <td>budew</td>\n",
       "      <td>0.2</td>\n",
       "      <td>1.2</td>\n",
       "      <td>green</td>\n",
       "      <td>humanoid</td>\n",
       "      <td>True</td>\n",
       "      <td>Grass</td>\n",
       "      <td>Poison</td>\n",
       "      <td>40</td>\n",
       "      <td>...</td>\n",
       "      <td>35</td>\n",
       "      <td>50</td>\n",
       "      <td>70</td>\n",
       "      <td>55</td>\n",
       "      <td>280</td>\n",
       "      <td>4</td>\n",
       "      <td>NaN</td>\n",
       "      <td>158</td>\n",
       "      <td>1:1</td>\n",
       "      <td>0</td>\n",
       "    </tr>\n",
       "    <tr>\n",
       "      <th>173</th>\n",
       "      <td>174</td>\n",
       "      <td>igglybuff</td>\n",
       "      <td>0.3</td>\n",
       "      <td>1.0</td>\n",
       "      <td>pink</td>\n",
       "      <td>humanoid</td>\n",
       "      <td>True</td>\n",
       "      <td>Normal</td>\n",
       "      <td>Fairy</td>\n",
       "      <td>90</td>\n",
       "      <td>...</td>\n",
       "      <td>15</td>\n",
       "      <td>40</td>\n",
       "      <td>20</td>\n",
       "      <td>15</td>\n",
       "      <td>210</td>\n",
       "      <td>2</td>\n",
       "      <td>NaN</td>\n",
       "      <td>16</td>\n",
       "      <td>3:1</td>\n",
       "      <td>0</td>\n",
       "    </tr>\n",
       "    <tr>\n",
       "      <th>432</th>\n",
       "      <td>433</td>\n",
       "      <td>chingling</td>\n",
       "      <td>0.2</td>\n",
       "      <td>0.6</td>\n",
       "      <td>yellow</td>\n",
       "      <td>humanoid</td>\n",
       "      <td>True</td>\n",
       "      <td>Psychic</td>\n",
       "      <td>NaN</td>\n",
       "      <td>45</td>\n",
       "      <td>...</td>\n",
       "      <td>50</td>\n",
       "      <td>65</td>\n",
       "      <td>50</td>\n",
       "      <td>45</td>\n",
       "      <td>285</td>\n",
       "      <td>4</td>\n",
       "      <td>NaN</td>\n",
       "      <td>184</td>\n",
       "      <td>1:1</td>\n",
       "      <td>0</td>\n",
       "    </tr>\n",
       "  </tbody>\n",
       "</table>\n",
       "<p>18 rows × 21 columns</p>\n",
       "</div>"
      ],
      "text/plain": [
       "      id       name  height  weight   color      shape  is baby    type 1  \\\n",
       "445  446   munchlax     0.6   105.0   black   humanoid     True    Normal   \n",
       "457  458    mantyke     1.0    65.0    blue      wings     True     Water   \n",
       "439  440    happiny     0.6    24.4    pink   humanoid     True    Normal   \n",
       "238  239     elekid     0.6    23.5  yellow   humanoid     True  Electric   \n",
       "239  240      magby     0.7    21.4     red    upright     True      Fire   \n",
       "235  236    tyrogue     0.7    21.0  purple   humanoid     True  Fighting   \n",
       "446  447      riolu     0.7    20.2    blue    upright     True  Fighting   \n",
       "437  438     bonsly     0.5    15.0   brown       legs     True      Rock   \n",
       "359  360     wynaut     0.6    14.0    blue    upright     True   Psychic   \n",
       "438  439    mime-jr     0.6    13.0    pink   humanoid     True   Psychic   \n",
       "237  238   smoochum     0.4     6.0    pink   humanoid     True       Ice   \n",
       "172  173     cleffa     0.3     3.0    pink    upright     True     Fairy   \n",
       "297  298    azurill     0.2     2.0    blue       legs     True    Normal   \n",
       "171  172      pichu     0.3     2.0  yellow  quadruped     True  Electric   \n",
       "174  175     togepi     0.3     1.5   white   humanoid     True     Fairy   \n",
       "405  406      budew     0.2     1.2   green   humanoid     True     Grass   \n",
       "173  174  igglybuff     0.3     1.0    pink   humanoid     True    Normal   \n",
       "432  433  chingling     0.2     0.6  yellow   humanoid     True   Psychic   \n",
       "\n",
       "      type 2   hp  ...  defense  sp. attack  sp. defense  speed  total  \\\n",
       "445      NaN  135  ...       40          40           85      5    390   \n",
       "457   Flying   45  ...       50          60          120     50    345   \n",
       "439      NaN  100  ...        5          15           65     30    220   \n",
       "238      NaN   45  ...       37          65           55     95    360   \n",
       "239      NaN   45  ...       37          70           55     83    365   \n",
       "235      NaN   35  ...       35          35           35     35    210   \n",
       "446      NaN   40  ...       40          35           40     60    285   \n",
       "437      NaN   50  ...       95          10           45     10    290   \n",
       "359      NaN   95  ...       48          23           48     23    260   \n",
       "438    Fairy   20  ...       45          70           90     60    310   \n",
       "237  Psychic   45  ...       15          85           65     65    305   \n",
       "172      NaN   50  ...       28          45           55     15    218   \n",
       "297    Fairy   50  ...       40          20           40     20    190   \n",
       "171      NaN   20  ...       15          35           35     60    205   \n",
       "174      NaN   35  ...       65          40           65     20    245   \n",
       "405   Poison   40  ...       35          50           70     55    280   \n",
       "173    Fairy   90  ...       15          40           20     15    210   \n",
       "432      NaN   45  ...       50          65           50     45    285   \n",
       "\n",
       "     generation  evolves from  evolution group  fm gender ratio  \\\n",
       "445           4           NaN               72              1:7   \n",
       "457           4           NaN              116              1:1   \n",
       "439           4           NaN               51              1:0   \n",
       "238           2           NaN               60              1:3   \n",
       "239           2           NaN               61              1:3   \n",
       "235           2           NaN               47              0:1   \n",
       "446           4           NaN              232              1:7   \n",
       "437           4           NaN               91              1:1   \n",
       "359           3           NaN              100              1:1   \n",
       "438           4           NaN               57              1:1   \n",
       "237           2           NaN               59              1:0   \n",
       "172           2           NaN               14              3:1   \n",
       "297           3           NaN               90              3:1   \n",
       "171           2           NaN               10              1:1   \n",
       "174           2           NaN               87              1:7   \n",
       "405           4           NaN              158              1:1   \n",
       "173           2           NaN               16              3:1   \n",
       "432           4           NaN              184              1:1   \n",
       "\n",
       "    has_gender_differences  \n",
       "445                      0  \n",
       "457                      0  \n",
       "439                      0  \n",
       "238                      0  \n",
       "239                      0  \n",
       "235                      0  \n",
       "446                      0  \n",
       "437                      0  \n",
       "359                      0  \n",
       "438                      0  \n",
       "237                      0  \n",
       "172                      0  \n",
       "297                      0  \n",
       "171                      0  \n",
       "174                      0  \n",
       "405                      0  \n",
       "173                      0  \n",
       "432                      0  \n",
       "\n",
       "[18 rows x 21 columns]"
      ]
     },
     "execution_count": 13,
     "metadata": {},
     "output_type": "execute_result"
    }
   ],
   "source": [
    "children = data[data[\"is baby\"] == True]\n",
    "by_weight = children.sort_values(by=\"weight\", ascending=False)\n",
    "by_weight"
   ]
  },
  {
   "cell_type": "markdown",
   "metadata": {},
   "source": [
    "### Kolik dospělých pokémonů je lehčích než nejtěžší dětský pokémon?"
   ]
  },
  {
   "cell_type": "code",
   "execution_count": 28,
   "metadata": {},
   "outputs": [
    {
     "data": {
      "text/plain": [
       "0       True\n",
       "1       True\n",
       "2       True\n",
       "3       True\n",
       "4       True\n",
       "       ...  \n",
       "802     True\n",
       "803    False\n",
       "804    False\n",
       "805     True\n",
       "806     True\n",
       "Name: weight, Length: 789, dtype: bool"
      ]
     },
     "execution_count": 28,
     "metadata": {},
     "output_type": "execute_result"
    }
   ],
   "source": [
    "children = data[data[\"is baby\"] == True]\n",
    "by_weight = children.sort_values(by=\"weight\", ascending=False)\n",
    "heaviest_baby = by_weight.iloc[0]\n",
    "parents = data[data[\"is baby\"] == False]\n",
    "res = parents[\"weight\"] < heaviest_baby[\"weight\"]\n",
    "len(res[res])\n",
    "res"
   ]
  },
  {
   "cell_type": "raw",
   "metadata": {},
   "source": [
    "## Počty dětských pokémonů"
   ]
  },
  {
   "cell_type": "code",
   "execution_count": null,
   "metadata": {
    "scrolled": true
   },
   "outputs": [],
   "source": [
    "data[\"is baby\"].value_counts()"
   ]
  },
  {
   "cell_type": "code",
   "execution_count": null,
   "metadata": {
    "scrolled": true
   },
   "outputs": [],
   "source": [
    "data[\"is baby\"].value_counts().plot.bar()"
   ]
  },
  {
   "cell_type": "code",
   "execution_count": null,
   "metadata": {},
   "outputs": [],
   "source": [
    "data[\"is baby\"].value_counts().plot(kind='pie', autopct='%1.1f%%')"
   ]
  },
  {
   "cell_type": "markdown",
   "metadata": {},
   "source": [
    "## Jak je na tom Pikachu?"
   ]
  },
  {
   "cell_type": "code",
   "execution_count": 30,
   "metadata": {},
   "outputs": [
    {
     "data": {
      "text/html": [
       "<div>\n",
       "<style scoped>\n",
       "    .dataframe tbody tr th:only-of-type {\n",
       "        vertical-align: middle;\n",
       "    }\n",
       "\n",
       "    .dataframe tbody tr th {\n",
       "        vertical-align: top;\n",
       "    }\n",
       "\n",
       "    .dataframe thead th {\n",
       "        text-align: right;\n",
       "    }\n",
       "</style>\n",
       "<table border=\"1\" class=\"dataframe\">\n",
       "  <thead>\n",
       "    <tr style=\"text-align: right;\">\n",
       "      <th></th>\n",
       "      <th>id</th>\n",
       "      <th>name</th>\n",
       "      <th>height</th>\n",
       "      <th>weight</th>\n",
       "      <th>color</th>\n",
       "      <th>shape</th>\n",
       "      <th>is baby</th>\n",
       "      <th>type 1</th>\n",
       "      <th>type 2</th>\n",
       "      <th>hp</th>\n",
       "      <th>...</th>\n",
       "      <th>defense</th>\n",
       "      <th>sp. attack</th>\n",
       "      <th>sp. defense</th>\n",
       "      <th>speed</th>\n",
       "      <th>total</th>\n",
       "      <th>generation</th>\n",
       "      <th>evolves from</th>\n",
       "      <th>evolution group</th>\n",
       "      <th>fm gender ratio</th>\n",
       "      <th>has_gender_differences</th>\n",
       "    </tr>\n",
       "  </thead>\n",
       "  <tbody>\n",
       "    <tr>\n",
       "      <th>24</th>\n",
       "      <td>25</td>\n",
       "      <td>pikachu</td>\n",
       "      <td>0.4</td>\n",
       "      <td>6.0</td>\n",
       "      <td>yellow</td>\n",
       "      <td>quadruped</td>\n",
       "      <td>False</td>\n",
       "      <td>Electric</td>\n",
       "      <td>NaN</td>\n",
       "      <td>35</td>\n",
       "      <td>...</td>\n",
       "      <td>40</td>\n",
       "      <td>50</td>\n",
       "      <td>50</td>\n",
       "      <td>90</td>\n",
       "      <td>320</td>\n",
       "      <td>1</td>\n",
       "      <td>172.0</td>\n",
       "      <td>10</td>\n",
       "      <td>1:1</td>\n",
       "      <td>1</td>\n",
       "    </tr>\n",
       "  </tbody>\n",
       "</table>\n",
       "<p>1 rows × 21 columns</p>\n",
       "</div>"
      ],
      "text/plain": [
       "    id     name  height  weight   color      shape  is baby    type 1 type 2  \\\n",
       "24  25  pikachu     0.4     6.0  yellow  quadruped    False  Electric    NaN   \n",
       "\n",
       "    hp  ...  defense  sp. attack  sp. defense  speed  total  generation  \\\n",
       "24  35  ...       40          50           50     90    320           1   \n",
       "\n",
       "    evolves from  evolution group  fm gender ratio has_gender_differences  \n",
       "24         172.0               10              1:1                      1  \n",
       "\n",
       "[1 rows x 21 columns]"
      ]
     },
     "execution_count": 30,
     "metadata": {},
     "output_type": "execute_result"
    }
   ],
   "source": [
    "data[data['name'] == 'pikachu']"
   ]
  },
  {
   "cell_type": "markdown",
   "metadata": {},
   "source": [
    "## A jak je na tom v porovnání s ostatními známými pokémony?"
   ]
  },
  {
   "cell_type": "code",
   "execution_count": null,
   "metadata": {},
   "outputs": [],
   "source": [
    "data[data['name'].isin(['pikachu', 'bulbasaur', 'charmander', 'squirtle'])]"
   ]
  },
  {
   "cell_type": "code",
   "execution_count": null,
   "metadata": {},
   "outputs": [],
   "source": [
    "znami = data[data['name'].isin(['pikachu', 'bulbasaur', 'charmander', 'squirtle'])]"
   ]
  },
  {
   "cell_type": "code",
   "execution_count": null,
   "metadata": {},
   "outputs": [],
   "source": [
    "znami.plot.bar(x='name', y='attack')"
   ]
  },
  {
   "cell_type": "code",
   "execution_count": null,
   "metadata": {},
   "outputs": [],
   "source": [
    "znami.sort_values(by='attack', ascending=False).plot.bar(x='name', y='attack')"
   ]
  },
  {
   "cell_type": "markdown",
   "metadata": {},
   "source": [
    " ## Úkol č. 2 - základní graf - mezigenerační potence"
   ]
  },
  {
   "cell_type": "markdown",
   "metadata": {},
   "source": [
    "Vykresli graf počtu pokémonů v jednotlivých generacích."
   ]
  },
  {
   "cell_type": "code",
   "execution_count": 54,
   "metadata": {},
   "outputs": [
    {
     "data": {
      "text/plain": [
       "generation\n",
       "1    151\n",
       "2    100\n",
       "3    135\n",
       "4    107\n",
       "5    156\n",
       "6     72\n",
       "7     86\n",
       "dtype: int64"
      ]
     },
     "execution_count": 54,
     "metadata": {},
     "output_type": "execute_result"
    }
   ],
   "source": [
    "data.groupby(\"generation\").size()"
   ]
  },
  {
   "cell_type": "markdown",
   "metadata": {},
   "source": [
    "## Použití vlastního indexu"
   ]
  },
  {
   "cell_type": "code",
   "execution_count": null,
   "metadata": {},
   "outputs": [],
   "source": [
    "data.head()"
   ]
  },
  {
   "cell_type": "code",
   "execution_count": null,
   "metadata": {},
   "outputs": [],
   "source": [
    "data.set_index(\"id\", inplace=True)\n",
    "data.head()"
   ]
  },
  {
   "cell_type": "code",
   "execution_count": null,
   "metadata": {},
   "outputs": [],
   "source": [
    "data[data[\"is baby\"] == True].reset_index()"
   ]
  },
  {
   "cell_type": "markdown",
   "metadata": {},
   "source": [
    "## Jaké průměrné skóre mají různobarevní pokémoni?"
   ]
  },
  {
   "cell_type": "code",
   "execution_count": null,
   "metadata": {},
   "outputs": [],
   "source": [
    "podle_barev = data.groupby('color').mean().sort_values(by='total', ascending=False)"
   ]
  },
  {
   "cell_type": "code",
   "execution_count": null,
   "metadata": {},
   "outputs": [],
   "source": [
    "podle_barev"
   ]
  },
  {
   "cell_type": "code",
   "execution_count": null,
   "metadata": {},
   "outputs": [],
   "source": [
    "podle_barev.plot(kind='bar', y='total')"
   ]
  },
  {
   "cell_type": "markdown",
   "metadata": {},
   "source": [
    "## A která barva je nejfrekventovanější?"
   ]
  },
  {
   "cell_type": "code",
   "execution_count": null,
   "metadata": {},
   "outputs": [],
   "source": [
    "frekvence_barev = data.groupby('color').size().sort_values(ascending=False)\n",
    "frekvence_barev"
   ]
  },
  {
   "cell_type": "code",
   "execution_count": null,
   "metadata": {},
   "outputs": [],
   "source": [
    "frekvence_barev.plot(kind='bar')"
   ]
  },
  {
   "cell_type": "code",
   "execution_count": null,
   "metadata": {},
   "outputs": [],
   "source": [
    "frekvence_barev.plot(kind='pie')"
   ]
  },
  {
   "cell_type": "markdown",
   "metadata": {},
   "source": [
    "### Existuje jiné řešení pro stejný problém? Ano!"
   ]
  },
  {
   "cell_type": "code",
   "execution_count": null,
   "metadata": {},
   "outputs": [],
   "source": [
    "data[\"color\"].value_counts().plot.pie()"
   ]
  },
  {
   "cell_type": "markdown",
   "metadata": {},
   "source": [
    "## A co skóre jednotlivých generací?"
   ]
  },
  {
   "cell_type": "code",
   "execution_count": null,
   "metadata": {},
   "outputs": [],
   "source": [
    "generace = data.groupby('generation').mean().sort_values(by='total', ascending=False)\n",
    "generace"
   ]
  },
  {
   "cell_type": "code",
   "execution_count": null,
   "metadata": {},
   "outputs": [],
   "source": [
    "generace.plot.bar(y='total')"
   ]
  },
  {
   "cell_type": "code",
   "execution_count": null,
   "metadata": {},
   "outputs": [],
   "source": [
    "generace.sort_index().plot.bar(y='total')"
   ]
  },
  {
   "cell_type": "markdown",
   "metadata": {},
   "source": [
    "## Co do rychlosti, jsou jednotlivé generace spíše nad nebo pod průměrem?"
   ]
  },
  {
   "cell_type": "code",
   "execution_count": null,
   "metadata": {},
   "outputs": [],
   "source": [
    "data['speed'].mean()"
   ]
  },
  {
   "cell_type": "code",
   "execution_count": null,
   "metadata": {},
   "outputs": [],
   "source": [
    "data['avg speed'] = data['speed'].mean()"
   ]
  },
  {
   "cell_type": "code",
   "execution_count": null,
   "metadata": {},
   "outputs": [],
   "source": [
    "data['avg speed diff'] = data['speed'] - data['avg speed']"
   ]
  },
  {
   "cell_type": "code",
   "execution_count": null,
   "metadata": {},
   "outputs": [],
   "source": [
    "data.head()"
   ]
  },
  {
   "cell_type": "code",
   "execution_count": null,
   "metadata": {},
   "outputs": [],
   "source": [
    "data.groupby('generation').mean().plot.bar(y='avg speed diff')"
   ]
  },
  {
   "cell_type": "markdown",
   "metadata": {},
   "source": [
    "## Jaké kombinace typů jsou vlastně možné?"
   ]
  },
  {
   "cell_type": "markdown",
   "metadata": {},
   "source": [
    "### Řešení problému rovnocených typů"
   ]
  },
  {
   "cell_type": "code",
   "execution_count": null,
   "metadata": {},
   "outputs": [],
   "source": [
    "data.head()"
   ]
  },
  {
   "cell_type": "code",
   "execution_count": null,
   "metadata": {},
   "outputs": [],
   "source": [
    "data[(data[\"type 1\"] == \"Water\") & (data[\"type 2\"] == \"Ice\")]"
   ]
  },
  {
   "cell_type": "code",
   "execution_count": null,
   "metadata": {},
   "outputs": [],
   "source": [
    "data[(data[\"type 2\"] == \"Water\") & (data[\"type 1\"] == \"Ice\")]"
   ]
  },
  {
   "cell_type": "code",
   "execution_count": null,
   "metadata": {},
   "outputs": [],
   "source": [
    "data[[\"type 1\", \"type 2\"]].values.tolist()"
   ]
  },
  {
   "cell_type": "code",
   "execution_count": null,
   "metadata": {},
   "outputs": [],
   "source": [
    "data[\"type 2\"] = data[\"type 2\"].fillna(\"\")"
   ]
  },
  {
   "cell_type": "code",
   "execution_count": null,
   "metadata": {},
   "outputs": [],
   "source": [
    "data[\"types\"] = data[[\"type 1\", \"type 2\"]].values.tolist()"
   ]
  },
  {
   "cell_type": "code",
   "execution_count": null,
   "metadata": {},
   "outputs": [],
   "source": [
    "data.head()"
   ]
  },
  {
   "cell_type": "code",
   "execution_count": null,
   "metadata": {},
   "outputs": [],
   "source": [
    "def zpracuj(seznam):\n",
    "    \"\"\"\n",
    "    Zpracuje seznam řetězců tak, že je seřadí podle abecedy\n",
    "    a spojí mezerou do jednoho řetězce.\n",
    "    Např: [\"Water\", \"Ice\"] → \"Ice Water\"\n",
    "    \"\"\"\n",
    "    serazen = sorted(seznam)\n",
    "    return \" \".join(serazen).strip()"
   ]
  },
  {
   "cell_type": "code",
   "execution_count": null,
   "metadata": {},
   "outputs": [],
   "source": [
    "data[\"types\"] = data[\"types\"].apply(zpracuj)"
   ]
  },
  {
   "cell_type": "code",
   "execution_count": null,
   "metadata": {},
   "outputs": [],
   "source": [
    "data.head()"
   ]
  },
  {
   "cell_type": "code",
   "execution_count": null,
   "metadata": {},
   "outputs": [],
   "source": [
    "data.groupby('types').size().sort_values(ascending=False).head(20)"
   ]
  },
  {
   "cell_type": "markdown",
   "metadata": {},
   "source": [
    "## Úkol č. 3 - skupiny pokémonů a jejich statistiky"
   ]
  },
  {
   "cell_type": "markdown",
   "metadata": {},
   "source": [
    "### Jaká je průměrná váha pokémonů dle jednotlivých tvarů?"
   ]
  },
  {
   "cell_type": "code",
   "execution_count": 44,
   "metadata": {},
   "outputs": [
    {
     "data": {
      "text/plain": [
       "<matplotlib.axes._subplots.AxesSubplot at 0x7f138fa22668>"
      ]
     },
     "execution_count": 44,
     "metadata": {},
     "output_type": "execute_result"
    },
    {
     "data": {
      "image/png": "[encoded data removed]",
      "text/plain": [
       "<Figure size 432x288 with 1 Axes>"
      ]
     },
     "metadata": {
      "needs_background": "light"
     },
     "output_type": "display_data"
    }
   ],
   "source": [
    "data.groupby(\"shape\")[\"weight\"].mean().plot.bar()"
   ]
  },
  {
   "cell_type": "markdown",
   "metadata": {},
   "source": [
    "### Existují nějaké významně časté kombinace barev a tvarů?"
   ]
  },
  {
   "cell_type": "code",
   "execution_count": 51,
   "metadata": {},
   "outputs": [
    {
     "data": {
      "text/plain": [
       "color  shape    \n",
       "brown  quadruped    39\n",
       "blue   upright      36\n",
       "brown  upright      23\n",
       "blue   quadruped    23\n",
       "red    upright      22\n",
       "                    ..\n",
       "white  legs          1\n",
       "       heads         1\n",
       "brown  tentacles     1\n",
       "pink   armor         1\n",
       "black  armor         1\n",
       "Length: 120, dtype: int64"
      ]
     },
     "execution_count": 51,
     "metadata": {},
     "output_type": "execute_result"
    }
   ],
   "source": [
    "data.groupby([\"color\", \"shape\"]).size().sort_values(ascending=False)"
   ]
  },
  {
   "cell_type": "markdown",
   "metadata": {},
   "source": [
    "## A co rozdělení sil mezi typy?"
   ]
  },
  {
   "cell_type": "code",
   "execution_count": null,
   "metadata": {},
   "outputs": [],
   "source": [
    "data.boxplot(column='total', by='type 1', rot=90)"
   ]
  },
  {
   "cell_type": "markdown",
   "metadata": {},
   "source": [
    "## Dětští pokémoni v jednotlivých generacích"
   ]
  },
  {
   "cell_type": "code",
   "execution_count": null,
   "metadata": {},
   "outputs": [],
   "source": [
    "data.groupby(['generation', 'is baby']).size()"
   ]
  },
  {
   "cell_type": "code",
   "execution_count": null,
   "metadata": {},
   "outputs": [],
   "source": [
    "data.groupby(['generation', 'is baby']).size().unstack().plot.bar(stacked=True)"
   ]
  },
  {
   "cell_type": "markdown",
   "metadata": {},
   "source": [
    "## Dětští pokémoni a jejich skóre v jednotlivých generacích"
   ]
  },
  {
   "cell_type": "code",
   "execution_count": null,
   "metadata": {},
   "outputs": [],
   "source": [
    "data['baby color'] = 'gray'\n",
    "data.loc[data['is baby'] == 1, 'baby color'] = 'red'"
   ]
  },
  {
   "cell_type": "code",
   "execution_count": null,
   "metadata": {},
   "outputs": [],
   "source": [
    "data.plot.scatter(x='generation', y='total', c=data['baby color'])"
   ]
  }
 ],
 "metadata": {
  "kernelspec": {
   "display_name": "Python 3",
   "language": "python",
   "name": "python3"
  },
  "language_info": {
   "codemirror_mode": {
    "name": "ipython",
    "version": 3
   },
   "file_extension": ".py",
   "mimetype": "text/x-python",
   "name": "python",
   "nbconvert_exporter": "python",
   "pygments_lexer": "ipython3",
   "version": "3.6.8"
  }
 },
 "nbformat": 4,
 "nbformat_minor": 2
}
