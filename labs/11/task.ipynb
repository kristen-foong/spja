{
 "cells": [
  {
   "cell_type": "code",
   "execution_count": null,
   "metadata": {},
   "outputs": [],
   "source": [
    "%matplotlib inline\n",
    "import pandas as pd\n",
    "import os"
   ]
  },
  {
   "cell_type": "code",
   "execution_count": null,
   "metadata": {},
   "outputs": [],
   "source": [
    "df = pd.read_csv(\"data/Pokemon.csv\")\n",
    "df"
   ]
  },
  {
   "cell_type": "code",
   "execution_count": null,
   "metadata": {},
   "outputs": [],
   "source": [
    "# Přidejte do tabulky df nový sloupec, který bude obsahovat rozdíl útoku a obrany každého Pokémona."
   ]
  },
  {
   "cell_type": "code",
   "execution_count": null,
   "metadata": {},
   "outputs": [],
   "source": [
    "# Kolik Pokémonů z první generace má větší počet životů (hp) než hodnotu obrany (defense)?"
   ]
  },
  {
   "cell_type": "code",
   "execution_count": null,
   "metadata": {},
   "outputs": [],
   "source": [
    "# Která generace a barva Pokémonů má největší průměrný počet životů (např. 2. generace, zelená barva)?"
   ]
  },
  {
   "cell_type": "code",
   "execution_count": null,
   "metadata": {},
   "outputs": [],
   "source": [
    "# Setřiďte Pokémony podle celkové síly (total). Jaký je největší rozdíl v celkové síle mezi dvěmi sousedními\n",
    "# Pokémony v tomto setřízení? (může se hodit funkce diff)"
   ]
  },
  {
   "cell_type": "code",
   "execution_count": null,
   "metadata": {},
   "outputs": [],
   "source": [
    "# Který Pokémon má největší celkovou sílu (total) v součtu se svým příštím vývojovým stádiem?\n",
    "# Např. bulbasaur má příští vývojové stádium ivysaur, oba dva mají dohromady celkovou sílu 723.\n",
    "# Použijte funkci join (ekvivalent JOINu v SQL)."
   ]
  }
 ],
 "metadata": {
  "kernelspec": {
   "display_name": "Python 3",
   "language": "python",
   "name": "python3"
  },
  "language_info": {
   "codemirror_mode": {
    "name": "ipython",
    "version": 3
   },
   "file_extension": ".py",
   "mimetype": "text/x-python",
   "name": "python",
   "nbconvert_exporter": "python",
   "pygments_lexer": "ipython3",
   "version": "3.6.8"
  }
 },
 "nbformat": 4,
 "nbformat_minor": 2
}
